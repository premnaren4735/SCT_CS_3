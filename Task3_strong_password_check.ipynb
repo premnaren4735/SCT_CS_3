{
 "cells": [
  {
   "cell_type": "code",
   "execution_count": 9,
   "id": "4aebac78-f54c-4502-be21-95b8e8a216f0",
   "metadata": {},
   "outputs": [
    {
     "name": "stdin",
     "output_type": "stream",
     "text": [
      "🔑 Enter your password:  nani@123#Vvit\n"
     ]
    },
    {
     "name": "stdout",
     "output_type": "stream",
     "text": [
      "\n",
      "🔍 Password Strength: Very Strong 💪\n"
     ]
    }
   ],
   "source": [
    "import re\n",
    "\n",
    "def check_password_strength(password):\n",
    "    strength = 0\n",
    "    remarks = []\n",
    "\n",
    "    # Criteria Checks\n",
    "    if len(password) >= 8:\n",
    "        strength += 1\n",
    "    else:\n",
    "        remarks.append(\"Password should be at least 8 characters long.\")\n",
    "\n",
    "    if re.search(r'[A-Z]', password):\n",
    "        strength += 1\n",
    "    else:\n",
    "        remarks.append(\"Include at least one uppercase letter.\")\n",
    "\n",
    "    if re.search(r'[a-z]', password):\n",
    "        strength += 1\n",
    "    else:\n",
    "        remarks.append(\"Include at least one lowercase letter.\")\n",
    "\n",
    "    if re.search(r'\\d', password):\n",
    "        strength += 1\n",
    "    else:\n",
    "        remarks.append(\"Include at least one digit.\")\n",
    "\n",
    "    if re.search(r'[!@#$%^&*(),.?\":{}|<>]', password):\n",
    "        strength += 1\n",
    "    else:\n",
    "        remarks.append(\"Include at least one special character.\")\n",
    "\n",
    "    # Strength Meter\n",
    "    if strength == 5:\n",
    "        level = \"Very Strong 💪\"\n",
    "    elif strength == 4:\n",
    "        level = \"Strong 🔐\"\n",
    "    elif strength == 3:\n",
    "        level = \"Moderate 🛡️\"\n",
    "    elif strength == 2:\n",
    "        level = \"Weak ⚠️\"\n",
    "    else:\n",
    "        level = \"Very Weak ❌\"\n",
    "\n",
    "    return level, remarks\n",
    "\n",
    "# Driver Code\n",
    "if __name__ == \"__main__\":\n",
    "    password = input(\"🔑 Enter your password: \")\n",
    "    level, feedback = check_password_strength(password)\n",
    "\n",
    "    print(f\"\\n🔍 Password Strength: {level}\")\n",
    "    if feedback:\n",
    "        print(\"Suggestions:\")\n",
    "        for item in feedback:\n",
    "            print(\" -\", item)\n"
   ]
  },
  {
   "cell_type": "code",
   "execution_count": null,
   "id": "e476ced8-77a9-49b9-b124-0bf3b09af225",
   "metadata": {},
   "outputs": [],
   "source": []
  }
 ],
 "metadata": {
  "kernelspec": {
   "display_name": "Python [conda env:base] *",
   "language": "python",
   "name": "conda-base-py"
  },
  "language_info": {
   "codemirror_mode": {
    "name": "ipython",
    "version": 3
   },
   "file_extension": ".py",
   "mimetype": "text/x-python",
   "name": "python",
   "nbconvert_exporter": "python",
   "pygments_lexer": "ipython3",
   "version": "3.12.7"
  }
 },
 "nbformat": 4,
 "nbformat_minor": 5
}
